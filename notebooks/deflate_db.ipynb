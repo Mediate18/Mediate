{
 "cells": [
  {
   "cell_type": "markdown",
   "id": "0e524792-c2b6-4614-91bf-bcefeeeaef90",
   "metadata": {
    "tags": []
   },
   "source": [
    "# Deflate DB\n",
    "\n",
    "This script can be used to make the DB smaller, i.e. remove data, so that developing and testing is quicker."
   ]
  },
  {
   "cell_type": "code",
   "execution_count": null,
   "id": "7056bc11-bf7a-4842-a261-8ed2bb04175e",
   "metadata": {},
   "outputs": [],
   "source": [
    "import os\n",
    "os.environ[\"DJANGO_ALLOW_ASYNC_UNSAFE\"] = \"true\""
   ]
  },
  {
   "cell_type": "code",
   "execution_count": null,
   "id": "69476d8b-0a53-4928-bb80-2fc00cbe205f",
   "metadata": {},
   "outputs": [],
   "source": [
    "NUMBER_OF_CATALOGUES_TO_KEEP = 10"
   ]
  },
  {
   "cell_type": "code",
   "execution_count": null,
   "id": "de5901a0-a437-4a9f-a833-4831eeae13d2",
   "metadata": {},
   "outputs": [],
   "source": [
    "import random"
   ]
  },
  {
   "cell_type": "code",
   "execution_count": null,
   "id": "d5f9082f-f4ed-472a-9bd8-4c9f41fc329d",
   "metadata": {},
   "outputs": [],
   "source": [
    "print(\"Catalogue:\", Catalogue.objects.count())\n",
    "print(\"Collection:\", Collection.objects.count())\n",
    "print(\"Lot:\", Lot.objects.count())\n",
    "print(\"Item:\", Item.objects.count())\n",
    "print(\"Edition:\", Edition.objects.count())\n",
    "print(\"Category:\", Category.objects.count())"
   ]
  },
  {
   "cell_type": "code",
   "execution_count": null,
   "id": "21ee5407-f0c3-4ce1-8dc6-11dd3841844b",
   "metadata": {},
   "outputs": [],
   "source": [
    "for dataset in Dataset.objects.all():\n",
    "    all_catalogues = Catalogue.objects.filter(dataset=dataset)\n",
    "    for catalogue in random.sample(list(all_catalogues), all_catalogues.count() - NUMBER_OF_CATALOGUES_TO_KEEP):\n",
    "        print(dataset, catalogue)\n",
    "        # print(Item.objects.filter(catalogue=catalogue).query)\n",
    "        # print(\"DELETE FROM items_item WHERE catalogue_id = '{}';\".format(catalogue.uuid.hex))\n",
    "        Collection.objects.filter(catalogue=catalogue).delete()\n",
    "        catalogue.delete()"
   ]
  },
  {
   "cell_type": "code",
   "execution_count": null,
   "id": "4408c603-71b2-4d69-b803-9f474bcbd2f1",
   "metadata": {},
   "outputs": [],
   "source": [
    "Edition.objects.annotate(item_cnt=Count('items')).filter(item_cnt=0).delete()"
   ]
  },
  {
   "cell_type": "code",
   "execution_count": null,
   "id": "1cc7d551-0790-441e-970b-142cfed4bbe0",
   "metadata": {},
   "outputs": [],
   "source": [
    "# Delete all Historical data\n",
    "from django.apps import apps\n",
    "\n",
    "historical_models = {\n",
    "    model.__name__: model for model in apps.get_models() if model.__name__.startswith(\"Historical\")\n",
    "}\n",
    "\n",
    "for model in historical_models.values():\n",
    "    model.objects.all().delete()"
   ]
  },
  {
   "cell_type": "code",
   "execution_count": null,
   "id": "0a90f405-e819-46d9-9fb9-ac60b6f281cc",
   "metadata": {},
   "outputs": [],
   "source": [
    "print(\"Catalogue:\", Catalogue.objects.count())\n",
    "print(\"Collection:\", Collection.objects.count())\n",
    "print(\"Lot:\", Lot.objects.count())\n",
    "print(\"Item:\", Item.objects.count())\n",
    "print(\"Edition:\", Edition.objects.count())\n",
    "print(\"Category:\", Category.objects.count())"
   ]
  },
  {
   "cell_type": "code",
   "execution_count": null,
   "id": "36b6e903-6e3e-4e8b-b39b-5b3aa9625bf0",
   "metadata": {},
   "outputs": [],
   "source": []
  }
 ],
 "metadata": {
  "kernelspec": {
   "display_name": "Django Shell-Plus",
   "language": "python",
   "name": "django_extensions"
  },
  "language_info": {
   "codemirror_mode": {
    "name": "ipython",
    "version": 3
   },
   "file_extension": ".py",
   "mimetype": "text/x-python",
   "name": "python",
   "nbconvert_exporter": "python",
   "pygments_lexer": "ipython3",
   "version": "3.10.6"
  }
 },
 "nbformat": 4,
 "nbformat_minor": 5
}
